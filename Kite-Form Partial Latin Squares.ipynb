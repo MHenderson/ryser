{
 "metadata": {
  "name": "Kite-Form Partial Latin Squares"
 },
 "nbformat": 3,
 "nbformat_minor": 0,
 "worksheets": [
  {
   "cells": [
    {
     "cell_type": "markdown",
     "metadata": {},
     "source": [
      "# Completing Symmetric Kite-Form Partial Latin Squares\n",
      "by Matthew Henderson\n",
      "Created 26th March 2013\n",
      "\n",
      "## Introduction\n",
      "\n",
      "In this notebook we demonstrate how to complete symmetric partial latin squares of kite-form (KF-SPLS) using Ryser.\n",
      "\n",
      "The first step is to import the Ryser package. We also import the examples module to have some ready-made examples to play with."
     ]
    },
    {
     "cell_type": "code",
     "collapsed": false,
     "input": [
      "import ryser\n",
      "import ryser.examples"
     ],
     "language": "python",
     "metadata": {},
     "outputs": [],
     "prompt_number": 1
    },
    {
     "cell_type": "markdown",
     "metadata": {},
     "source": [
      "The first few examples in the examples module are all incompletable cases. Example 8 is a completable KF-SPLS."
     ]
    },
    {
     "cell_type": "code",
     "collapsed": false,
     "input": [
      "P = ryser.examples.eg8\n",
      "print P"
     ],
     "language": "python",
     "metadata": {},
     "outputs": [
      {
       "output_type": "stream",
       "stream": "stdout",
       "text": [
        "|3|1|7|4|.|.|.|.|\n",
        "|1|2|4|3|.|.|.|.|\n",
        "|7|4|6|5|.|.|.|.|\n",
        "|4|3|5|8|.|.|.|.|\n",
        "|.|.|.|.|.|3|.|.|\n",
        "|.|.|.|.|3|.|.|.|\n",
        "|.|.|.|.|.|.|.|5|\n",
        "|.|.|.|.|.|.|5|.|\n"
       ]
      }
     ],
     "prompt_number": 2
    },
    {
     "cell_type": "markdown",
     "metadata": {},
     "source": [
      "## The Method\n",
      "\n",
      "In the next few cells we complete P by using an algorithm described in the paper \"Completing Symmetric Kite-Form Partial Latin Squares\" by the author.\n",
      "\n",
      "The first step is to construct a first extension."
     ]
    },
    {
     "cell_type": "code",
     "collapsed": false,
     "input": [
      "first_extension = {5:2,6:5,13:5,14:6,21:1,22:8,29:6,30:7,33:2,34:5,35:1,36:6,37:8,41:5,42:6,43:8,44:7,46:2}\n"
     ],
     "language": "python",
     "metadata": {},
     "outputs": [],
     "prompt_number": 3
    },
    {
     "cell_type": "markdown",
     "metadata": {},
     "source": [
      "With the first extension we can extend P:"
     ]
    },
    {
     "cell_type": "code",
     "collapsed": false,
     "input": [
      "P.extend(first_extension)\n",
      "print P"
     ],
     "language": "python",
     "metadata": {},
     "outputs": [
      {
       "output_type": "stream",
       "stream": "stdout",
       "text": [
        "|3|1|7|4|2|5|.|.|\n",
        "|1|2|4|3|5|6|.|.|\n",
        "|7|4|6|5|1|8|.|.|\n",
        "|4|3|5|8|6|7|.|.|\n",
        "|2|5|1|6|8|3|.|.|\n",
        "|5|6|8|7|3|2|.|.|\n",
        "|.|.|.|.|.|.|.|5|\n",
        "|.|.|.|.|.|.|5|.|\n"
       ]
      }
     ],
     "prompt_number": 4
    },
    {
     "cell_type": "markdown",
     "metadata": {},
     "source": [
      "Now, to complete P, we simply repeat the same process once more."
     ]
    },
    {
     "cell_type": "code",
     "collapsed": false,
     "input": [
      "second_extension = {7:6,8:8,15:8,16:7,23:2,24:3,31:1,32:2,39:7,40:4,47:4,48:1,\\\n",
      "                    49:6,50:8,51:2,52:1,53:7,54:4,55:3,57:8,58:7,59:3,60:2,61:4,62:1,64:6}\n",
      "P.extend(second_extension)\n",
      "print P"
     ],
     "language": "python",
     "metadata": {},
     "outputs": [
      {
       "output_type": "stream",
       "stream": "stdout",
       "text": [
        "|3|1|7|4|2|5|6|8|\n",
        "|1|2|4|3|5|6|8|7|\n",
        "|7|4|6|5|1|8|2|3|\n",
        "|4|3|5|8|6|7|1|2|\n",
        "|2|5|1|6|8|3|7|4|\n",
        "|5|6|8|7|3|2|4|1|\n",
        "|6|8|2|1|7|4|3|5|\n",
        "|8|7|3|2|4|1|5|6|\n"
       ]
      }
     ],
     "prompt_number": 5
    },
    {
     "cell_type": "code",
     "collapsed": false,
     "input": [],
     "language": "python",
     "metadata": {},
     "outputs": [],
     "prompt_number": 5
    }
   ],
   "metadata": {}
  }
 ]
}