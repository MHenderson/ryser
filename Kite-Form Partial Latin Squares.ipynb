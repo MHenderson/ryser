{
 "metadata": {
  "name": "Kite-Form Partial Latin Squares"
 },
 "nbformat": 3,
 "nbformat_minor": 0,
 "worksheets": [
  {
   "cells": [
    {
     "cell_type": "markdown",
     "metadata": {},
     "source": [
      "# Completing Symmetric Kite-Form Partial Latin Squares\n",
      "by Matthew Henderson\n",
      "Created 26th March 2013\n",
      "\n",
      "## 1. Introduction\n",
      "\n",
      "In this notebook we demonstrate how to complete symmetric partial latin squares of kite-form (KF-SPLS) using Ryser.\n",
      "\n",
      "The first step is to import the Ryser package. We also import the examples module to have some ready-made examples to play with."
     ]
    },
    {
     "cell_type": "code",
     "collapsed": false,
     "input": [
      "import ryser\n",
      "import ryser.examples"
     ],
     "language": "python",
     "metadata": {},
     "outputs": [],
     "prompt_number": 1
    },
    {
     "cell_type": "markdown",
     "metadata": {},
     "source": [
      "The first few examples in the examples module are all incompletable cases. Example 8 is a completable KF-SPLS."
     ]
    },
    {
     "cell_type": "code",
     "collapsed": false,
     "input": [
      "P = ryser.examples.eg8\n",
      "print P"
     ],
     "language": "python",
     "metadata": {},
     "outputs": [
      {
       "output_type": "stream",
       "stream": "stdout",
       "text": [
        "|3|1|7|4|.|.|.|.|\n",
        "|1|2|4|3|.|.|.|.|\n",
        "|7|4|6|5|.|.|.|.|\n",
        "|4|3|5|8|.|.|.|.|\n",
        "|.|.|.|.|.|3|.|.|\n",
        "|.|.|.|.|3|.|.|.|\n",
        "|.|.|.|.|.|.|.|5|\n",
        "|.|.|.|.|.|.|5|.|\n"
       ]
      }
     ],
     "prompt_number": 2
    },
    {
     "cell_type": "markdown",
     "metadata": {},
     "source": [
      "## 2. The Method\n",
      "\n",
      "Here we describe the method described in the paper \"Completing Symmetric Kite-Form Partial Latin Squares\" by the author for completing KF-SPLS.\n",
      "\n"
     ]
    },
    {
     "cell_type": "markdown",
     "metadata": {},
     "source": [
      "## 3. Implementation Details\n",
      "\n",
      "In the next few cells we describe how Algorithm 1 above is implemented in the ```ryser``` Python package.\n",
      "\n",
      "The first step is to construct a first extension using the ```extend``` function from the ```completion``` module."
     ]
    },
    {
     "cell_type": "markdown",
     "metadata": {},
     "source": [
      "### 3.1 The Augmented Row-Absences Multigraph\n",
      "\n",
      "Central to our method is the **augmented row-absences multigraph**. The ```ryser``` package provides the ```aram``` function to construct this multigraph from a KF-SPLS."
     ]
    },
    {
     "cell_type": "code",
     "collapsed": false,
     "input": [
      "import ryser.graphs\n",
      "G = ryser.graphs.aram(P, 4, 4, 0)\n",
      "import networkx\n",
      "networkx.draw_circular(G)"
     ],
     "language": "python",
     "metadata": {},
     "outputs": [
      {
       "ename": "TypeError",
       "evalue": "argument of type 'int' is not iterable",
       "output_type": "pyerr",
       "traceback": [
        "\u001b[1;31m---------------------------------------------------------------------------\u001b[0m\n\u001b[1;31mTypeError\u001b[0m                                 Traceback (most recent call last)",
        "\u001b[1;32m<ipython-input-3-dce46f97c1d7>\u001b[0m in \u001b[0;36m<module>\u001b[1;34m()\u001b[0m\n\u001b[0;32m      1\u001b[0m \u001b[1;32mimport\u001b[0m \u001b[0mryser\u001b[0m\u001b[1;33m.\u001b[0m\u001b[0mgraphs\u001b[0m\u001b[1;33m\u001b[0m\u001b[0m\n\u001b[1;32m----> 2\u001b[1;33m \u001b[0mG\u001b[0m \u001b[1;33m=\u001b[0m \u001b[0mryser\u001b[0m\u001b[1;33m.\u001b[0m\u001b[0mgraphs\u001b[0m\u001b[1;33m.\u001b[0m\u001b[0maram\u001b[0m\u001b[1;33m(\u001b[0m\u001b[0mP\u001b[0m\u001b[1;33m,\u001b[0m \u001b[1;36m4\u001b[0m\u001b[1;33m,\u001b[0m \u001b[1;36m4\u001b[0m\u001b[1;33m,\u001b[0m \u001b[1;36m0\u001b[0m\u001b[1;33m)\u001b[0m\u001b[1;33m\u001b[0m\u001b[0m\n\u001b[0m\u001b[0;32m      3\u001b[0m \u001b[1;32mimport\u001b[0m \u001b[0mnetworkx\u001b[0m\u001b[1;33m\u001b[0m\u001b[0m\n\u001b[0;32m      4\u001b[0m \u001b[0mnetworkx\u001b[0m\u001b[1;33m.\u001b[0m\u001b[0mdraw_circular\u001b[0m\u001b[1;33m(\u001b[0m\u001b[0mG\u001b[0m\u001b[1;33m)\u001b[0m\u001b[1;33m\u001b[0m\u001b[0m\n",
        "\u001b[1;32m/home/matthew/workspace/ryser/ryser/graphs.py\u001b[0m in \u001b[0;36maram\u001b[1;34m(P, r, t, e)\u001b[0m\n\u001b[0;32m     32\u001b[0m     \u001b[1;32mfor\u001b[0m \u001b[0mrow\u001b[0m \u001b[1;32min\u001b[0m \u001b[0mP\u001b[0m\u001b[1;33m.\u001b[0m\u001b[0mrows\u001b[0m\u001b[1;33m(\u001b[0m\u001b[1;36m0\u001b[0m\u001b[1;33m,\u001b[0m \u001b[0mr\u001b[0m\u001b[1;33m)\u001b[0m\u001b[1;33m:\u001b[0m\u001b[1;33m\u001b[0m\u001b[0m\n\u001b[0;32m     33\u001b[0m         \u001b[1;32mfor\u001b[0m \u001b[0msymbol\u001b[0m \u001b[1;32min\u001b[0m \u001b[0mP\u001b[0m\u001b[1;33m.\u001b[0m\u001b[0msymbols\u001b[0m\u001b[1;33m(\u001b[0m\u001b[1;33m)\u001b[0m\u001b[1;33m:\u001b[0m\u001b[1;33m\u001b[0m\u001b[0m\n\u001b[1;32m---> 34\u001b[1;33m             \u001b[1;32mif\u001b[0m \u001b[0msymbol\u001b[0m \u001b[1;32mnot\u001b[0m \u001b[1;32min\u001b[0m \u001b[0mrow\u001b[0m\u001b[1;33m:\u001b[0m\u001b[1;33m\u001b[0m\u001b[0m\n\u001b[0m\u001b[0;32m     35\u001b[0m                 \u001b[0mG\u001b[0m\u001b[1;33m.\u001b[0m\u001b[0madd_edge\u001b[0m\u001b[1;33m(\u001b[0m\u001b[0mrow\u001b[0m\u001b[1;33m,\u001b[0m \u001b[0msymbol\u001b[0m\u001b[1;33m)\u001b[0m\u001b[1;33m\u001b[0m\u001b[0m\n\u001b[0;32m     36\u001b[0m     \u001b[1;32mreturn\u001b[0m \u001b[0mG\u001b[0m\u001b[1;33m\u001b[0m\u001b[0m\n",
        "\u001b[1;31mTypeError\u001b[0m: argument of type 'int' is not iterable"
       ]
      }
     ],
     "prompt_number": 3
    },
    {
     "cell_type": "code",
     "collapsed": false,
     "input": [
      "import ryser.completion\n",
      "first_extension = ryser.completion.extension(P, 4, 4, 0)"
     ],
     "language": "python",
     "metadata": {},
     "outputs": []
    },
    {
     "cell_type": "markdown",
     "metadata": {},
     "source": [
      "With the first extension we can extend P, using P's ```extend``` member-function."
     ]
    },
    {
     "cell_type": "code",
     "collapsed": false,
     "input": [
      "P.extend(first_extension)\n",
      "print P"
     ],
     "language": "python",
     "metadata": {},
     "outputs": []
    },
    {
     "cell_type": "markdown",
     "metadata": {},
     "source": [
      "Now, to complete P, we simply repeat the same process once more, this time in one step."
     ]
    },
    {
     "cell_type": "code",
     "collapsed": false,
     "input": [
      "P.extend(ryser.completion.extension(P,6,2,0))\n",
      "print P"
     ],
     "language": "python",
     "metadata": {},
     "outputs": []
    },
    {
     "cell_type": "markdown",
     "metadata": {},
     "source": [
      "## 4. Complete Implementation\n",
      "\n",
      "The completion can be accomplished in a single step using the ```complete``` method from the ```completion``` module. We have to reload the ```examples``` module so that ```eg8``` returns to being an incomplete KF-SPLS."
     ]
    },
    {
     "cell_type": "code",
     "collapsed": false,
     "input": [
      "reload(ryser.examples)\n",
      "P = ryser.examples.eg8\n",
      "print P\n"
     ],
     "language": "python",
     "metadata": {},
     "outputs": []
    },
    {
     "cell_type": "code",
     "collapsed": false,
     "input": [
      "ryser.completion.complete(P,4,4,0)\n",
      "print P"
     ],
     "language": "python",
     "metadata": {},
     "outputs": []
    },
    {
     "cell_type": "code",
     "collapsed": false,
     "input": [],
     "language": "python",
     "metadata": {},
     "outputs": []
    }
   ],
   "metadata": {}
  }
 ]
}