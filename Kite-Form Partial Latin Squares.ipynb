{
 "metadata": {
  "name": "Kite-Form Partial Latin Squares"
 },
 "nbformat": 3,
 "nbformat_minor": 0,
 "worksheets": [
  {
   "cells": [
    {
     "cell_type": "markdown",
     "metadata": {},
     "source": [
      "# Completing Symmetric Kite-Form Partial Latin Squares\n",
      "by Matthew Henderson\n",
      "Created 26th March 2013\n",
      "\n",
      "## 1. Introduction\n",
      "\n",
      "In this notebook we demonstrate how to complete symmetric partial latin squares of kite-form (KF-SPLS) using Ryser.\n",
      "\n",
      "The first step is to import the Ryser package. We also import the examples module to have some ready-made examples to play with."
     ]
    },
    {
     "cell_type": "code",
     "collapsed": false,
     "input": [
      "import ryser\n",
      "import ryser.examples"
     ],
     "language": "python",
     "metadata": {},
     "outputs": [],
     "prompt_number": 1
    },
    {
     "cell_type": "markdown",
     "metadata": {},
     "source": [
      "The first few examples in the examples module are all incompletable cases. Example 8 is a completable KF-SPLS."
     ]
    },
    {
     "cell_type": "code",
     "collapsed": false,
     "input": [
      "P = ryser.examples.eg8\n",
      "print P"
     ],
     "language": "python",
     "metadata": {},
     "outputs": [
      {
       "output_type": "stream",
       "stream": "stdout",
       "text": [
        "|3|1|7|4|.|.|.|.|\n",
        "|1|2|4|3|.|.|.|.|\n",
        "|7|4|6|5|.|.|.|.|\n",
        "|4|3|5|8|.|.|.|.|\n",
        "|.|.|.|.|.|3|.|.|\n",
        "|.|.|.|.|3|.|.|.|\n",
        "|.|.|.|.|.|.|.|5|\n",
        "|.|.|.|.|.|.|5|.|\n"
       ]
      }
     ],
     "prompt_number": 2
    },
    {
     "cell_type": "markdown",
     "metadata": {},
     "source": [
      "## 2. The Method\n",
      "\n",
      "Here we describe the method described in the paper \"Completing Symmetric Kite-Form Partial Latin Squares\" by the author for completing KF-SPLS.\n",
      "\n",
      "## 3. Implementation Details\n",
      "\n",
      "In the next few cells we describe the implementation of Algorithm 1 in the ```ryser`` Python package.\n",
      "\n",
      "The first step is to construct a first extension using the ```extend``` function from the ```completion``` module."
     ]
    },
    {
     "cell_type": "code",
     "collapsed": false,
     "input": [
      "import ryser.completion\n",
      "first_extension = ryser.completion.extension(P, 4, 4, 0)"
     ],
     "language": "python",
     "metadata": {},
     "outputs": [],
     "prompt_number": 3
    },
    {
     "cell_type": "markdown",
     "metadata": {},
     "source": [
      "With the first extension we can extend P, using P's ```extend``` member-function."
     ]
    },
    {
     "cell_type": "code",
     "collapsed": false,
     "input": [
      "P.extend(first_extension)\n",
      "print P"
     ],
     "language": "python",
     "metadata": {},
     "outputs": [
      {
       "output_type": "stream",
       "stream": "stdout",
       "text": [
        "|3|1|7|4|2|5|.|.|\n",
        "|1|2|4|3|5|6|.|.|\n",
        "|7|4|6|5|1|8|.|.|\n",
        "|4|3|5|8|6|7|.|.|\n",
        "|2|5|1|6|8|3|.|.|\n",
        "|5|6|8|7|3|2|.|.|\n",
        "|.|.|.|.|.|.|.|5|\n",
        "|.|.|.|.|.|.|5|.|\n"
       ]
      }
     ],
     "prompt_number": 4
    },
    {
     "cell_type": "markdown",
     "metadata": {},
     "source": [
      "Now, to complete P, we simply repeat the same process once more, this time in one step."
     ]
    },
    {
     "cell_type": "code",
     "collapsed": false,
     "input": [
      "P.extend(ryser.completion.extension(P,6,2,0))\n",
      "print P"
     ],
     "language": "python",
     "metadata": {},
     "outputs": [
      {
       "output_type": "stream",
       "stream": "stdout",
       "text": [
        "|3|1|7|4|2|5|6|8|\n",
        "|1|2|4|3|5|6|8|7|\n",
        "|7|4|6|5|1|8|2|3|\n",
        "|4|3|5|8|6|7|1|2|\n",
        "|2|5|1|6|8|3|7|4|\n",
        "|5|6|8|7|3|2|4|1|\n",
        "|6|8|2|1|7|4|3|5|\n",
        "|8|7|3|2|4|1|5|6|\n"
       ]
      }
     ],
     "prompt_number": 5
    },
    {
     "cell_type": "markdown",
     "metadata": {},
     "source": [
      "## 4. Complete Implementation\n",
      "\n",
      "The completion can be accomplished in a single step using the ```complete``` method from the ```completion``` module. We have to reload the ```examples``` module so that ```eg8``` returns to being an incomplete KF-SPLS."
     ]
    },
    {
     "cell_type": "code",
     "collapsed": false,
     "input": [
      "reload(ryser.examples)\n",
      "P = ryser.examples.eg8\n",
      "print P\n"
     ],
     "language": "python",
     "metadata": {},
     "outputs": [
      {
       "output_type": "stream",
       "stream": "stdout",
       "text": [
        "|3|1|7|4|.|.|.|.|\n",
        "|1|2|4|3|.|.|.|.|\n",
        "|7|4|6|5|.|.|.|.|\n",
        "|4|3|5|8|.|.|.|.|\n",
        "|.|.|.|.|.|3|.|.|\n",
        "|.|.|.|.|3|.|.|.|\n",
        "|.|.|.|.|.|.|.|5|\n",
        "|.|.|.|.|.|.|5|.|\n"
       ]
      }
     ],
     "prompt_number": 6
    },
    {
     "cell_type": "code",
     "collapsed": false,
     "input": [
      "ryser.completion.complete(P,4,4,0)\n",
      "print P"
     ],
     "language": "python",
     "metadata": {},
     "outputs": [
      {
       "output_type": "stream",
       "stream": "stdout",
       "text": [
        "|3|1|7|4|2|5|6|8|\n",
        "|1|2|4|3|5|6|8|7|\n",
        "|7|4|6|5|1|8|2|3|\n",
        "|4|3|5|8|6|7|1|2|\n",
        "|2|5|1|6|8|3|7|4|\n",
        "|5|6|8|7|3|2|4|1|\n",
        "|6|8|2|1|7|4|3|5|\n",
        "|8|7|3|2|4|1|5|6|\n"
       ]
      }
     ],
     "prompt_number": 7
    },
    {
     "cell_type": "code",
     "collapsed": false,
     "input": [],
     "language": "python",
     "metadata": {},
     "outputs": [],
     "prompt_number": 7
    }
   ],
   "metadata": {}
  }
 ]
}